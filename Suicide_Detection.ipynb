{
 "metadata": {
  "language_info": {
   "codemirror_mode": {
    "name": "ipython",
    "version": 3
   },
   "file_extension": ".py",
   "mimetype": "text/x-python",
   "name": "python",
   "nbconvert_exporter": "python",
   "pygments_lexer": "ipython3",
   "version": "3.9.2"
  },
  "orig_nbformat": 2,
  "kernelspec": {
   "name": "python392jvsc74a57bd0247ab06e135bb35fa78c5eff31b2a9a0050dcb5fb773c2631d2a29ac689eeccb",
   "display_name": "Python 3.9.2 64-bit"
  },
  "metadata": {
   "interpreter": {
    "hash": "247ab06e135bb35fa78c5eff31b2a9a0050dcb5fb773c2631d2a29ac689eeccb"
   }
  }
 },
 "nbformat": 4,
 "nbformat_minor": 2,
 "cells": [
  {
   "cell_type": "code",
   "execution_count": 1,
   "metadata": {},
   "outputs": [],
   "source": [
    "import tensorflow as tf\n",
    "import pandas as pd\n",
    "import numpy as np\n",
    "\n",
    "from tensorflow.keras.preprocessing.sequence import pad_sequences\n",
    "from tensorflow.keras.preprocessing.text import Tokenizer"
   ]
  },
  {
   "cell_type": "code",
   "execution_count": 2,
   "metadata": {},
   "outputs": [],
   "source": [
    "max_length = 200\n",
    "trunc_type='post'\n",
    "padding_type='post'\n",
    "oov_tok = \"<OOV>\"\n",
    "training_size = 174055"
   ]
  },
  {
   "source": [
    "Create vocabulary from Suicide_Detection Dataset"
   ],
   "cell_type": "markdown",
   "metadata": {}
  },
  {
   "cell_type": "code",
   "execution_count": 12,
   "metadata": {},
   "outputs": [],
   "source": [
    "src = \"Suicide_Detection.csv\"\n",
    "csv_reader = pd.read_csv(src)"
   ]
  },
  {
   "cell_type": "code",
   "execution_count": 13,
   "metadata": {},
   "outputs": [],
   "source": [
    "tokenizer = Tokenizer(oov_token=oov_tok)\n",
    "tokenizer.fit_on_texts(csv_reader['text'].iloc[0:training_size])"
   ]
  },
  {
   "source": [
    "Load pre-trained model"
   ],
   "cell_type": "markdown",
   "metadata": {}
  },
  {
   "cell_type": "code",
   "execution_count": 5,
   "metadata": {},
   "outputs": [
    {
     "output_type": "stream",
     "name": "stdout",
     "text": [
      "Model: \"sequential_4\"\n_________________________________________________________________\nLayer (type)                 Output Shape              Param #   \n=================================================================\nembedding_4 (Embedding)      (None, 200, 200)          34259200  \n_________________________________________________________________\nbidirectional_4 (Bidirection (None, 240)               308160    \n_________________________________________________________________\ndropout_1 (Dropout)          (None, 240)               0         \n_________________________________________________________________\ndense_8 (Dense)              (None, 24)                5784      \n_________________________________________________________________\ndense_9 (Dense)              (None, 1)                 25        \n=================================================================\nTotal params: 34,573,169\nTrainable params: 34,573,169\nNon-trainable params: 0\n_________________________________________________________________\n"
     ]
    }
   ],
   "source": [
    "new_model = tf.keras.models.load_model('my_model')\n",
    "\n",
    "# Check its architecture\n",
    "new_model.summary()"
   ]
  },
  {
   "cell_type": "code",
   "execution_count": null,
   "metadata": {},
   "outputs": [],
   "source": [
    "# Summary should look like this\n",
    "# Model: \"sequential_4\"\n",
    "# _________________________________________________________________\n",
    "# Layer (type)                 Output Shape              Param #   \n",
    "# =================================================================\n",
    "# embedding_4 (Embedding)      (None, 200, 200)          34259200  \n",
    "# _________________________________________________________________\n",
    "# bidirectional_4 (Bidirection (None, 240)               308160    \n",
    "# _________________________________________________________________\n",
    "# dropout_1 (Dropout)          (None, 240)               0         \n",
    "# _________________________________________________________________\n",
    "# dense_8 (Dense)              (None, 24)                5784      \n",
    "# _________________________________________________________________\n",
    "# dense_9 (Dense)              (None, 1)                 25        \n",
    "# =================================================================\n",
    "# Total params: 34,573,169\n",
    "# Trainable params: 34,573,169\n",
    "# Non-trainable params: 0\n",
    "# _________________________________________________________________"
   ]
  },
  {
   "cell_type": "code",
   "execution_count": 14,
   "metadata": {},
   "outputs": [
    {
     "output_type": "execute_result",
     "data": {
      "text/plain": [
       "array([0.963423], dtype=float32)"
      ]
     },
     "metadata": {},
     "execution_count": 14
    }
   ],
   "source": [
    "# Question Example\n",
    "# How often have you felt as though the future was bleak, over the past few weeks?\n",
    "predicted_sentences = \"I lost all my family, I don't have any will to live anymore\"\n",
    "token_list = tokenizer.texts_to_sequences([predicted_sentences])[0]\n",
    "token_list = pad_sequences([token_list], maxlen=max_length, padding=padding_type, truncating=trunc_type)\n",
    "new_model.predict(token_list)[0]"
   ]
  }
 ]
}