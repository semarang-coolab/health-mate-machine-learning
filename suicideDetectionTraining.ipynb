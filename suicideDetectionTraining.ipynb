{
 "metadata": {
  "language_info": {
   "codemirror_mode": {
    "name": "ipython",
    "version": 3
   },
   "file_extension": ".py",
   "mimetype": "text/x-python",
   "name": "python",
   "nbconvert_exporter": "python",
   "pygments_lexer": "ipython3",
   "version": "3.9.2"
  },
  "orig_nbformat": 2,
  "kernelspec": {
   "name": "python392jvsc74a57bd0247ab06e135bb35fa78c5eff31b2a9a0050dcb5fb773c2631d2a29ac689eeccb",
   "display_name": "Python 3.9.2 64-bit"
  },
  "metadata": {
   "interpreter": {
    "hash": "247ab06e135bb35fa78c5eff31b2a9a0050dcb5fb773c2631d2a29ac689eeccb"
   }
  }
 },
 "nbformat": 4,
 "nbformat_minor": 2,
 "cells": [
  {
   "cell_type": "code",
   "execution_count": 1,
   "metadata": {},
   "outputs": [],
   "source": [
    "import tensorflow as tf\n",
    "import pandas as pd\n",
    "import numpy as np\n",
    "from tensorflow.keras.preprocessing.sequence import pad_sequences\n",
    "from tensorflow.keras.preprocessing.text import Tokenizer"
   ]
  },
  {
   "cell_type": "code",
   "execution_count": 5,
   "metadata": {},
   "outputs": [],
   "source": [
    "class myCallback(tf.keras.callbacks.Callback):\n",
    "    def on_epoch_end(self, epoch, logs={}):\n",
    "        if(logs.get('accuracy') > 0.95):\n",
    "            print('\\n 95% accuracy has been reached')\n",
    "            self.model.stop_training = True\n",
    "callbacks = myCallback()"
   ]
  },
  {
   "cell_type": "code",
   "execution_count": 6,
   "metadata": {},
   "outputs": [],
   "source": [
    "vocab_size = 20000\n",
    "embedding_dim = 200\n",
    "max_length = 200\n",
    "trunc_type='post'\n",
    "padding_type='post'\n",
    "oov_tok = \"<OOV>\"\n",
    "training_size = 174055"
   ]
  },
  {
   "cell_type": "code",
   "execution_count": 6,
   "metadata": {
    "tags": []
   },
   "outputs": [],
   "source": [
    "src = \"Suicide_Detection.csv\"\n",
    "csv_reader = pd.read_csv(src)\n",
    "csv_reader.loc[csv_reader['class'] == 'suicide', 'class'] = 1\n",
    "csv_reader.loc[csv_reader['class'] == 'non-suicide', 'class'] = 0\n",
    "training_sentences = csv_reader['text'].iloc[0:training_size]\n",
    "training_labels = csv_reader['class'].iloc[0:training_size]\n",
    "validation_sentences = csv_reader['text'].iloc[training_size:-1]\n",
    "validation_labels = csv_reader['class'].iloc[training_size:-1]"
   ]
  },
  {
   "cell_type": "code",
   "execution_count": 7,
   "metadata": {},
   "outputs": [],
   "source": [
    "tokenizer = Tokenizer(oov_token=oov_tok)\n",
    "tokenizer.fit_on_texts(training_sentences)\n",
    "total_words = len(tokenizer.word_index) + 1"
   ]
  },
  {
   "cell_type": "code",
   "execution_count": 20,
   "metadata": {},
   "outputs": [],
   "source": [
    "training_sequences = tokenizer.texts_to_sequences(training_sentences)\n",
    "training_padded = pad_sequences(training_sequences, maxlen=max_length, padding=padding_type, truncating=trunc_type)\n",
    "\n",
    "validation_sequences = tokenizer.texts_to_sequences(validation_sentences)\n",
    "validation_padded = pad_sequences(validation_sequences, maxlen=max_length, padding=padding_type, truncating=trunc_type)"
   ]
  },
  {
   "cell_type": "code",
   "execution_count": 25,
   "metadata": {},
   "outputs": [
    {
     "output_type": "stream",
     "name": "stdout",
     "text": [
      "Model: \"sequential_4\"\n_________________________________________________________________\nLayer (type)                 Output Shape              Param #   \n=================================================================\nembedding_4 (Embedding)      (None, 200, 200)          34259200  \n_________________________________________________________________\nbidirectional_4 (Bidirection (None, 240)               308160    \n_________________________________________________________________\ndropout_1 (Dropout)          (None, 240)               0         \n_________________________________________________________________\ndense_8 (Dense)              (None, 24)                5784      \n_________________________________________________________________\ndense_9 (Dense)              (None, 1)                 25        \n=================================================================\nTotal params: 34,573,169\nTrainable params: 34,573,169\nNon-trainable params: 0\n_________________________________________________________________\n"
     ]
    }
   ],
   "source": [
    "model = tf.keras.Sequential([\n",
    "    tf.keras.layers.Embedding(total_words, embedding_dim, input_length=max_length),\n",
    "    tf.keras.layers.Bidirectional(tf.keras.layers.LSTM(120)),\n",
    "    tf.keras.layers.Dropout(0.2),\n",
    "    tf.keras.layers.Dense(24, activation='relu'),\n",
    "    tf.keras.layers.Dense(1, activation='sigmoid')\n",
    "])\n",
    "model.compile(loss='binary_crossentropy',optimizer='adam',metrics=['accuracy'])\n",
    "model.summary()"
   ]
  },
  {
   "cell_type": "code",
   "execution_count": 26,
   "metadata": {},
   "outputs": [
    {
     "output_type": "stream",
     "name": "stdout",
     "text": [
      "Epoch 1/5\n",
      "5440/5440 [==============================] - 6970s 1s/step - loss: 0.1927 - accuracy: 0.9284 - val_loss: 0.1505 - val_accuracy: 0.9457\n",
      "Epoch 2/5\n",
      "5440/5440 [==============================] - 6897s 1s/step - loss: 0.1159 - accuracy: 0.9580 - val_loss: 0.1468 - val_accuracy: 0.9481\n",
      "\n",
      " 90% accuracy has been reached\n"
     ]
    }
   ],
   "source": [
    "num_epochs = 5\n",
    "training_padded = np.array(training_padded)\n",
    "training_labels = np.array(training_labels).astype('float32')\n",
    "validation_padded = np.array(validation_padded)\n",
    "validation_labels = np.array(validation_labels).astype('float32')\n",
    "history = model.fit(training_padded, training_labels, epochs=num_epochs, validation_data=(validation_padded, validation_labels), callbacks=[callbacks])"
   ]
  },
  {
   "cell_type": "code",
   "execution_count": 27,
   "metadata": {},
   "outputs": [
    {
     "output_type": "execute_result",
     "data": {
      "text/plain": [
       "{'loss': [0.1926991492509842, 0.11591196060180664],\n",
       " 'accuracy': [0.9284306764602661, 0.9580420255661011],\n",
       " 'val_loss': [0.15046481788158417, 0.14684762060642242],\n",
       " 'val_accuracy': [0.9456892609596252, 0.9480506181716919]}"
      ]
     },
     "metadata": {},
     "execution_count": 27
    }
   ],
   "source": [
    "history.history"
   ]
  },
  {
   "cell_type": "code",
   "execution_count": null,
   "metadata": {},
   "outputs": [],
   "source": []
  },
  {
   "cell_type": "code",
   "execution_count": 89,
   "metadata": {},
   "outputs": [
    {
     "output_type": "execute_result",
     "data": {
      "text/plain": [
       "array([[0.9704542]], dtype=float32)"
      ]
     },
     "metadata": {},
     "execution_count": 89
    }
   ],
   "source": [
    "# Question Example\n",
    "# How often have you felt as though the future was bleak, over the past few weeks?\n",
    "predicted_sentences = \"I've felt it more frequently now, like the world doesn't want me live anymore. All of my dream and hope just vanish like it was nothing\"\n",
    "token_list = tokenizer.texts_to_sequences([predicted_sentences])[0]\n",
    "token_list = pad_sequences([token_list], maxlen=max_length, padding=padding_type, truncating=trunc_type)\n",
    "model.predict(token_list)"
   ]
  },
  {
   "cell_type": "code",
   "execution_count": 30,
   "metadata": {},
   "outputs": [
    {
     "output_type": "stream",
     "name": "stderr",
     "text": [
      "WARNING:absl:Found untraced functions such as lstm_cell_17_layer_call_and_return_conditional_losses, lstm_cell_17_layer_call_fn, lstm_cell_18_layer_call_and_return_conditional_losses, lstm_cell_18_layer_call_fn, lstm_cell_17_layer_call_fn while saving (showing 5 of 10). These functions will not be directly callable after loading.\n",
      "INFO:tensorflow:Assets written to: my_model\\assets\n",
      "INFO:tensorflow:Assets written to: my_model\\assets\n"
     ]
    }
   ],
   "source": [
    "model.save('my_model')"
   ]
  },
  {
   "cell_type": "code",
   "execution_count": 8,
   "metadata": {},
   "outputs": [
    {
     "output_type": "stream",
     "name": "stdout",
     "text": [
      "Model: \"sequential_4\"\n_________________________________________________________________\nLayer (type)                 Output Shape              Param #   \n=================================================================\nembedding_4 (Embedding)      (None, 200, 200)          34259200  \n_________________________________________________________________\nbidirectional_4 (Bidirection (None, 240)               308160    \n_________________________________________________________________\ndropout_1 (Dropout)          (None, 240)               0         \n_________________________________________________________________\ndense_8 (Dense)              (None, 24)                5784      \n_________________________________________________________________\ndense_9 (Dense)              (None, 1)                 25        \n=================================================================\nTotal params: 34,573,169\nTrainable params: 34,573,169\nNon-trainable params: 0\n_________________________________________________________________\n"
     ]
    }
   ],
   "source": [
    "new_model = tf.keras.models.load_model('my_model')\n",
    "\n",
    "# Check its architecture\n",
    "new_model.summary()"
   ]
  },
  {
   "cell_type": "code",
   "execution_count": 20,
   "metadata": {},
   "outputs": [
    {
     "output_type": "execute_result",
     "data": {
      "text/plain": [
       "array([[0.963423]], dtype=float32)"
      ]
     },
     "metadata": {},
     "execution_count": 20
    }
   ],
   "source": [
    "# Question Example\n",
    "# How often have you felt as though the future was bleak, over the past few weeks?\n",
    "predicted_sentences = \"I lost all my family, I don't have any will to live anymore\"\n",
    "token_list = tokenizer.texts_to_sequences([predicted_sentences])[0]\n",
    "token_list = pad_sequences([token_list], maxlen=max_length, padding=padding_type, truncating=trunc_type)\n",
    "new_model.predict(token_list)"
   ]
  },
  {
   "cell_type": "code",
   "execution_count": null,
   "metadata": {},
   "outputs": [],
   "source": []
  }
 ]
}